{
 "cells": [
  {
   "cell_type": "markdown",
   "metadata": {},
   "source": [
    "## Similarity retriever"
   ]
  },
  {
   "cell_type": "markdown",
   "metadata": {},
   "source": [
    "This notebook is meant to show the usage of the similarity detector"
   ]
  },
  {
   "cell_type": "code",
   "execution_count": 1,
   "metadata": {
    "collapsed": false
   },
   "outputs": [
    {
     "name": "stderr",
     "output_type": "stream",
     "text": [
      "/Users/david/anaconda/lib/python2.7/site-packages/numexpr/cpuinfo.py:76: UserWarning: [Errno 2] No such file or directory\n",
      "  stacklevel=stacklevel + 1):\n"
     ]
    }
   ],
   "source": [
    "from scripts.similatity_classification import SimClass\n",
    "import scripts.utils as ut\n",
    "import logging"
   ]
  },
  {
   "cell_type": "code",
   "execution_count": 2,
   "metadata": {
    "collapsed": false
   },
   "outputs": [
    {
     "name": "stdout",
     "output_type": "stream",
     "text": [
      "INFO - 2016-08-14 22:55:25,756 - loading corpus; please make sure all data is in this corpus\n",
      "INFO - 2016-08-14 22:55:25,775 - checking file_encoding\n",
      "INFO - 2016-08-14 22:55:25,798 - fitting a corpus of 65 documents in memory\n",
      "INFO - 2016-08-14 22:55:25,957 - using a normalized representation\n",
      "INFO - 2016-08-14 22:55:25,973 - predicting similatiry of text document using cosine similarity\n",
      "INFO - 2016-08-14 22:55:25,977 - using a normalized representation\n"
     ]
    }
   ],
   "source": [
    "# starting a logging class\n",
    "ut.init_logging()\n",
    "sc = SimClass(corpus_dir_path='/Users/david/Abzooba/data',number_of_similar=5)\n",
    "sc.fit()\n",
    "# Using the third article in the raw data stored\n",
    "\n",
    "a = sc.predict(sc.raw_data[50])"
   ]
  },
  {
   "cell_type": "code",
   "execution_count": 3,
   "metadata": {
    "collapsed": false
   },
   "outputs": [
    {
     "name": "stdout",
     "output_type": "stream",
     "text": [
      "INFO - 2016-08-14 22:55:26,209 - Most similar texts !\n",
      "\n",
      "\n",
      "INFO - 2016-08-14 22:55:26,227 -                                                 text     score\n",
      "0  VI.\\n\\nIf you were coming in the fall,\\nI'd br...  0.983339\n",
      "1  THE EMIGRANT'S SONG.\\n\\n\\nI.\\n\\nNo work, no ho...  0.114176\n",
      "2  TO A CHILD\\n\\nDear child! how radiant on thy m...  0.077456\n",
      "3  XX.\\n\\nI taste a liquor never brewed,\\nFrom ta...  0.066500\n",
      "4  HE MEETS VARUS AND MISTRESS.\\n\\nLed me my Varu...  0.058941\n"
     ]
    }
   ],
   "source": [
    "# Retrieving the \n",
    "logging.info(\"Most similar texts !\\n\\n\")\n",
    "res = sc.rank_items(a)\n",
    "logging.info(res.head())"
   ]
  },
  {
   "cell_type": "code",
   "execution_count": 4,
   "metadata": {
    "collapsed": false
   },
   "outputs": [
    {
     "name": "stdout",
     "output_type": "stream",
     "text": [
      "INFO - 2016-08-14 22:55:26,293 - Less similar texts !\n",
      "\n",
      "\n",
      "INFO - 2016-08-14 22:55:26,313 -                                                 text  score\n",
      "0  THE ABSENT ONES.\\n\\nHow I miss their faces!\\nF...      0\n",
      "1    TO AURELIUS--HANDS OFF THE BOY!\\n\\nTo thee I...      0\n",
      "2  SONNET I.\\n\\nWhen Life's realities the Soul pe...      0\n",
      "3  TO PRIAPUS, THE GARDEN-GOD.\\n\\nThis grove to t...      0\n",
      "4  TO MERCURY.\\n\\nMercury, eloquent grandson of A...      0\n"
     ]
    }
   ],
   "source": [
    "logging.info(\"Less similar texts !\\n\\n\")\n",
    "res = sc.rank_items(a,pos=False)\n",
    "logging.info(res.head())"
   ]
  },
  {
   "cell_type": "code",
   "execution_count": null,
   "metadata": {
    "collapsed": false
   },
   "outputs": [],
   "source": []
  },
  {
   "cell_type": "code",
   "execution_count": null,
   "metadata": {
    "collapsed": true
   },
   "outputs": [],
   "source": []
  }
 ],
 "metadata": {
  "kernelspec": {
   "display_name": "Python 2",
   "language": "python",
   "name": "python2"
  },
  "language_info": {
   "codemirror_mode": {
    "name": "ipython",
    "version": 2
   },
   "file_extension": ".py",
   "mimetype": "text/x-python",
   "name": "python",
   "nbconvert_exporter": "python",
   "pygments_lexer": "ipython2",
   "version": "2.7.12"
  }
 },
 "nbformat": 4,
 "nbformat_minor": 0
}
